{
 "cells": [
  {
   "cell_type": "code",
   "execution_count": 4,
   "metadata": {},
   "outputs": [
    {
     "name": "stdout",
     "output_type": "stream",
     "text": [
      "(2223, 13)\n"
     ]
    }
   ],
   "source": [
    "import pandas as pd\n",
    "\n",
    "df1 = pd.read_csv(\"df1_labeled.csv\", encoding=\"ISO-8859-1\")\n",
    "#df2 = pd.read_csv(\"df2_labeled.csv\", encoding=\"ISO-8859-1\")\n",
    "#df3 = pd.read_csv(\"df3_labeled.csv\", encoding=\"ISO-8859-1\")\n",
    "dfa = pd.read_csv(\"opt_add.csv\", encoding=\"ISO-8859-1\")\n",
    "\n",
    "data = pd.concat([df1,dfa])\n",
    "print(data.shape)"
   ]
  },
  {
   "cell_type": "code",
   "execution_count": 5,
   "metadata": {},
   "outputs": [
    {
     "name": "stdout",
     "output_type": "stream",
     "text": [
      "[0 1 2 3]\n"
     ]
    }
   ],
   "source": [
    "print(data[\"sentiment\"].unique())\n"
   ]
  },
  {
   "cell_type": "code",
   "execution_count": 6,
   "metadata": {},
   "outputs": [
    {
     "data": {
      "text/html": [
       "<div>\n",
       "<style scoped>\n",
       "    .dataframe tbody tr th:only-of-type {\n",
       "        vertical-align: middle;\n",
       "    }\n",
       "\n",
       "    .dataframe tbody tr th {\n",
       "        vertical-align: top;\n",
       "    }\n",
       "\n",
       "    .dataframe thead th {\n",
       "        text-align: right;\n",
       "    }\n",
       "</style>\n",
       "<table border=\"1\" class=\"dataframe\">\n",
       "  <thead>\n",
       "    <tr style=\"text-align: right;\">\n",
       "      <th></th>\n",
       "      <th>id</th>\n",
       "      <th>created_at</th>\n",
       "      <th>date</th>\n",
       "      <th>time</th>\n",
       "      <th>timezone</th>\n",
       "      <th>user_id</th>\n",
       "      <th>username</th>\n",
       "      <th>name</th>\n",
       "      <th>tweet</th>\n",
       "      <th>language</th>\n",
       "      <th>link</th>\n",
       "      <th>retweet</th>\n",
       "      <th>sentiment</th>\n",
       "    </tr>\n",
       "  </thead>\n",
       "  <tbody>\n",
       "    <tr>\n",
       "      <th>1439</th>\n",
       "      <td>1.520000e+18</td>\n",
       "      <td>2022-05-05 07:38:56 Turkey Standard Time</td>\n",
       "      <td>5/5/2022</td>\n",
       "      <td>7:38:56</td>\n",
       "      <td>300</td>\n",
       "      <td>1.230000e+18</td>\n",
       "      <td>mayank_twts</td>\n",
       "      <td>Mayank Verma</td>\n",
       "      <td>EdTech Startup Ã¢ÂÂ  The industry that gaine...</td>\n",
       "      <td>en</td>\n",
       "      <td>https://twitter.com/mayank_twts/status/1522073...</td>\n",
       "      <td>False</td>\n",
       "      <td>1</td>\n",
       "    </tr>\n",
       "    <tr>\n",
       "      <th>726</th>\n",
       "      <td>1.520000e+18</td>\n",
       "      <td>2022-05-03 22:50:03 Turkey Standard Time</td>\n",
       "      <td>5/3/2022</td>\n",
       "      <td>22:50:03</td>\n",
       "      <td>300</td>\n",
       "      <td>9.260000e+17</td>\n",
       "      <td>huntingtonngc</td>\n",
       "      <td>Huntington Learning</td>\n",
       "      <td>There are a lot of unknowns about this school ...</td>\n",
       "      <td>en</td>\n",
       "      <td>https://twitter.com/HuntingtonNGC/status/15215...</td>\n",
       "      <td>False</td>\n",
       "      <td>0</td>\n",
       "    </tr>\n",
       "    <tr>\n",
       "      <th>1516</th>\n",
       "      <td>1.520000e+18</td>\n",
       "      <td>2022-05-09 10:01:25 Turkey Standard Time</td>\n",
       "      <td>5/9/2022</td>\n",
       "      <td>10:01:25</td>\n",
       "      <td>300</td>\n",
       "      <td>1.470000e+18</td>\n",
       "      <td>lushiyichifanl</td>\n",
       "      <td>Louis</td>\n",
       "      <td>Cut out statistical fallacies. Counting the de...</td>\n",
       "      <td>en</td>\n",
       "      <td>https://twitter.com/lushiyichifanl/status/1523...</td>\n",
       "      <td>False</td>\n",
       "      <td>0</td>\n",
       "    </tr>\n",
       "    <tr>\n",
       "      <th>1611</th>\n",
       "      <td>1.390000e+18</td>\n",
       "      <td>2021-05-18 14:58:21 Turkey Standard Time</td>\n",
       "      <td>5/18/2021</td>\n",
       "      <td>14:58:21</td>\n",
       "      <td>300</td>\n",
       "      <td>1.130000e+18</td>\n",
       "      <td>nbtworldnews</td>\n",
       "      <td>NBT WORLD News</td>\n",
       "      <td>The Ministry of Digital Economy and Society ha...</td>\n",
       "      <td>en</td>\n",
       "      <td>https://twitter.com/NBTWORLDNews/status/139462...</td>\n",
       "      <td>False</td>\n",
       "      <td>3</td>\n",
       "    </tr>\n",
       "    <tr>\n",
       "      <th>1835</th>\n",
       "      <td>1.510000e+18</td>\n",
       "      <td>2022-04-10 07:38:38 Turkey Standard Time</td>\n",
       "      <td>4/10/2022</td>\n",
       "      <td>7:38:38</td>\n",
       "      <td>300</td>\n",
       "      <td>1.240000e+18</td>\n",
       "      <td>mcuasean</td>\n",
       "      <td>mcuasean</td>\n",
       "      <td>#Ã Â¸ÂÃ Â¸Â¸Ã Â¸ÂÃ Â¸ÂÃ Â¸Â§Ã Â¸Â²Ã Â¸Â¡Ã Â...</td>\n",
       "      <td>en</td>\n",
       "      <td>https://twitter.com/mcuasean/status/1513013564...</td>\n",
       "      <td>False</td>\n",
       "      <td>3</td>\n",
       "    </tr>\n",
       "  </tbody>\n",
       "</table>\n",
       "</div>"
      ],
      "text/plain": [
       "                id                                created_at       date  \\\n",
       "1439  1.520000e+18  2022-05-05 07:38:56 Turkey Standard Time   5/5/2022   \n",
       "726   1.520000e+18  2022-05-03 22:50:03 Turkey Standard Time   5/3/2022   \n",
       "1516  1.520000e+18  2022-05-09 10:01:25 Turkey Standard Time   5/9/2022   \n",
       "1611  1.390000e+18  2021-05-18 14:58:21 Turkey Standard Time  5/18/2021   \n",
       "1835  1.510000e+18  2022-04-10 07:38:38 Turkey Standard Time  4/10/2022   \n",
       "\n",
       "          time  timezone       user_id        username                 name  \\\n",
       "1439   7:38:56       300  1.230000e+18     mayank_twts         Mayank Verma   \n",
       "726   22:50:03       300  9.260000e+17   huntingtonngc  Huntington Learning   \n",
       "1516  10:01:25       300  1.470000e+18  lushiyichifanl                Louis   \n",
       "1611  14:58:21       300  1.130000e+18    nbtworldnews       NBT WORLD News   \n",
       "1835   7:38:38       300  1.240000e+18        mcuasean             mcuasean   \n",
       "\n",
       "                                                  tweet language  \\\n",
       "1439  EdTech Startup Ã¢ÂÂ\n",
       "  The industry that gaine...       en   \n",
       "726   There are a lot of unknowns about this school ...       en   \n",
       "1516  Cut out statistical fallacies. Counting the de...       en   \n",
       "1611  The Ministry of Digital Economy and Society ha...       en   \n",
       "1835  #Ã Â¸ÂÃ Â¸Â¸Ã Â¸ÂÃ Â¸ÂÃ Â¸Â§Ã Â¸Â²Ã Â¸Â¡Ã Â...       en   \n",
       "\n",
       "                                                   link  retweet  sentiment  \n",
       "1439  https://twitter.com/mayank_twts/status/1522073...    False          1  \n",
       "726   https://twitter.com/HuntingtonNGC/status/15215...    False          0  \n",
       "1516  https://twitter.com/lushiyichifanl/status/1523...    False          0  \n",
       "1611  https://twitter.com/NBTWORLDNews/status/139462...    False          3  \n",
       "1835  https://twitter.com/mcuasean/status/1513013564...    False          3  "
      ]
     },
     "execution_count": 6,
     "metadata": {},
     "output_type": "execute_result"
    }
   ],
   "source": [
    "data = data.sample(frac=1)\n",
    "data.head()"
   ]
  },
  {
   "cell_type": "code",
   "execution_count": 7,
   "metadata": {},
   "outputs": [],
   "source": [
    "data.to_csv(\"labeled_data.csv\")"
   ]
  }
 ],
 "metadata": {
  "interpreter": {
   "hash": "bcf76d94f5b8b28f3dd69206380c74a29b1a182d1f2d629c955f29cd9944fd60"
  },
  "kernelspec": {
   "display_name": "Python 3.10.3 64-bit",
   "language": "python",
   "name": "python3"
  },
  "language_info": {
   "codemirror_mode": {
    "name": "ipython",
    "version": 3
   },
   "file_extension": ".py",
   "mimetype": "text/x-python",
   "name": "python",
   "nbconvert_exporter": "python",
   "pygments_lexer": "ipython3",
   "version": "3.10.3"
  },
  "orig_nbformat": 4
 },
 "nbformat": 4,
 "nbformat_minor": 2
}
